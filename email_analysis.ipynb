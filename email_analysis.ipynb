{
 "cells": [
  {
   "cell_type": "markdown",
   "metadata": {},
   "source": [
    "# Suspicious Email Analysis, Sample From Hybrid-Analysis"
   ]
  },
  {
   "cell_type": "code",
   "execution_count": 33,
   "metadata": {},
   "outputs": [
    {
     "name": "stdout",
     "output_type": "stream",
     "text": [
      "Return-Path: <info@ricongroup.com>\n",
      "Received: from ricongroup.com ([188.209.52.201]) by mx.kundenserver.de\n",
      " (mxeue109 [217.72.192.67]) with ESMTP (Nemesis) id 1MPHNj-1iKh7a2upp-00PmVo\n",
      " for <contact@vins-tso.com>; Thu, 19 Dec 2019 17:27:11 +0100\n",
      "From: info@ricongroup.com\n",
      "To: contact@vins-tso.com\n",
      "Subject: PO 18-12-2019\n",
      "Date: 19 Dec 2019 08:27:12 -0800\n",
      "Message-ID: <20191219082712.DA4A76788FE4A930@ricongroup.com>\n",
      "MIME-Version: 1.0\n",
      "Content-Type: multipart/mixed;\n",
      "\tboundary=\"----=_NextPart_000_0012_C2B69DE6.AAD179D4\"\n",
      "Envelope-To: <contact@vins-tso.com>\n",
      "X-Spam-Flag: NO\n",
      "X-UI-Filterresults: notjunk:1;V03:K0:OKLB9hp3O8I=:NGfMT4O04rMWYpmmJzeEKyZp8h\n",
      " GC9BO+IQwm0yvILevLt34WambE3brpO3PvD/l/0TXhG3Z7eN8AOwwdBGvly1USxk0BNcLT1id\n",
      " 2LQocUXCrkUxNEdXk45K6l+jlPbhxDHfYo6UO0JPgyjJW0SqxO82DQxItinjJnlg2f5G6zzqd\n",
      " jPCZ5xLBSonAsam3PdSNc/5Rs5pV1hBR27+o8s3C66EhxG3ZUJ3D858qL46Vg+vKeCl8RjAjw\n",
      " PK3Nhl5niq3klkZTwA4e0yY0YzJ1tgXI4UOpADcJQ/jnk7g6AyBJpHIrlQGZXvNi9O1gpD6tB\n",
      " tgJjEE5aVqdwgmgKZj3TlA+bfgWVBeTDuBQiLA4di6zr9BeAM7JHLeS0piTYwzlPjJCj3e2nR\n",
      " /XPzGhamY8AdKI/fBFGkET/9+8BpvzbvO79qxQ9wRD8i/U20rzPvhTFMKGUdGThNTK6qhHXS0\n",
      " fZf2FxHHy0kFYbGE7ZM0a0vU4Y0/i6XHposjuK4GEmJDcBCxuRv0I4Q8U5JOADdIIkKispABK\n",
      " Ek6oBpIiNX5zJP4RbiN1lpXh2kQw+ddneTgB5noljnCKjC+xSR3j7VsSosJeM9Q5i14RXiJrj\n",
      " S7QdjFjMYrYMRTnZPXrvDqDrhXKIDaQtmwfYf4sIr9x2Be8EsphnNRbw3DuaWgyyrBc83HDW5\n",
      " g2AzRISGXKNEhnJdcxJ3+6KPYh6vQjQWMUXVB19oAGmatcOkVdNlkGq4p6qaR4yQAtKnK/kuD\n",
      " WJbcKBPMOMG+4Q4EY0EbpVF8+Ndrm4dZs/q+EKp3NlE+oT1bacUbwjIUNNbaVKi596j4zBg5Z\n",
      " Qtm/+svzu+hRX0Ra+/dK1+soBiYOmGRblEw1aRHl4mqJ2bwwI+18/iTfacQ/SNrHJavYEBMP0\n",
      " M+/NzJWCJk+3O1qvkT9dqzUbkVxzb72y+sPF4ZgddjasLBzDesRkEEtEdu6uGGqWMNJwfxqjn\n",
      " HBnf/mKZdtU1FN6ww3FV2oZwdAnm5N96iJtGBkQ7+v3aPjJ5pMZwRs5qLE+1AVDbkex4GB9Qy\n",
      " Q00lluerPLGJZXjrzzuUu2bibnSjAX4xRLyakyUxo+MZJa4KYi6a+myEMIpJiNPpcuBieaOaL\n",
      " itbqSX9lj+B5Xz/OewPP2YHxZtS7Am23lkdkbbVl9tdeGBILdJjacy9PHsPCFwfT71DfMmcaa\n",
      " zOMXgffc7OrkLmvj6g/gwLckgshUla39TnFE0wDg9gDUaAaDugq2ayAdKn8wmo/jdzMdy+vSD\n",
      " p6faX+sMosM7PYCq/leKtqOor0XwbgrXK+IAkqxIyGizASmx0jkdloTH1nIhjMMCOkbFCQQ3q\n",
      " LK0FKNAp4rRJOz/975qsbTY9kOqa/KImEvq3L/45hAtuqmaXk7O+SkBqBEljPQq0H09RAjp1R\n",
      " A9g6cma4avpE6TfNW0ibwqsvwNVJZ41yoJFWaPsA48oawcHvOI1fPlpX+QRq4Iz8T/9JrXjVp\n",
      " EsYpJcj0LqzzG9APjPnVuhlAGqlKNoW9YdT+IwOGbC7qT1aFGEGeSrRAqR5v5j5grttYqRM+Z\n",
      " fbzeC2dKiPaXZjnXjY9iGiwqiAKBBMKlH1oRWHjw+v5k5/FceyvYK/NkNML/fbbde59I5aWyf\n",
      " sizIBH7xiCbnCzJS8mXLKTl0xXrfit1u0IZgMGY3TlMc6tcx8H8v0FtK/DbiSBgPtam7/R//L\n",
      " qgyDtl4M4xwlNTy5hBLNt5CHid0Jg3JJYldpt3MWIawIYkDxehcQFrLW0IoEzJKIZvp8xG+w8\n",
      " U+TilEjhxeSiVzSwPx5O2wyzt8IG3x5NejhgbMbml8xNHh8iONeQEYYKAeKKZWdUZgFLUgZ/E\n",
      " 9IO7zo34EC+39QE1Khj7IyXVOcdeFl1D+A/hLx45hbCKTqePC8/cTfx/BUka8wHukAWDK\n",
      "date: Fri, 20 Dec 2019 01:27:12 +0900\n",
      "\n",
      "\n"
     ]
    }
   ],
   "source": [
    "# Import extract_msg, read in file and analyze headers\n",
    "import extract_msg\n",
    "\n",
    "suspect_mail_file = 'PO_18_12.msg'\n",
    "msg = extract_msg.Message(suspect_mail_file)\n",
    "msg_hdr = str(msg.header)\n",
    "print(msg_hdr)"
   ]
  },
  {
   "cell_type": "code",
   "execution_count": 50,
   "metadata": {},
   "outputs": [
    {
     "name": "stdout",
     "output_type": "stream",
     "text": [
      "['188.209.52.201', '217.72.192.67']\n",
      "\n",
      "\n",
      "['Return-Path: <info@ricongroup.com>', '\\nReceived: from ricongroup.com ([188.209.52.201]) by mx.kundenserver.de\\n (mxeue109 [217.72.192.67]) with ESMTP (Nemesis) id 1MPHNj-1iKh7a2upp-00PmVo\\n for <contact@vins-tso.com>; Thu, 19 Dec 2019 17:27:11 +0100', '\\nFrom: info@ricongroup.com', '\\nTo: contact@vins-tso.com', '\\nSubject: PO 18-12-2019\\nDate: 19 Dec 2019 08:27:12 -0800\\nMessage-ID: <20191219082712.DA4A76788FE4A930@ricongroup.com>', '\\nMIME-Version: 1.0\\nContent-Type: multipart/mixed;\\n\\tboundary=\"----=_NextPart_000_0012_C2B69DE6.AAD179D4\"\\nEnvelope-To: <contact@vins-tso.com>']\n"
     ]
    }
   ],
   "source": [
    "# Extract IPv4 addresses and domain names from header\n",
    "import re\n",
    "\n",
    "ips_in_hdr = re.findall(\"\\d{1,3}\\.\\d{1,3}\\.\\d{1,3}\\.\\d{1,3}\", msg_hdr)\n",
    "urls_in_hdr = re.findall(\"[^@]+@[^\\.]+\\..+\", msg_hdr)\n",
    "\n",
    "print(ips_in_hdr)\n",
    "print(\"\\n\")\n",
    "print(urls_in_hdr)"
   ]
  },
  {
   "cell_type": "code",
   "execution_count": 3,
   "metadata": {},
   "outputs": [
    {
     "name": "stdout",
     "output_type": "stream",
     "text": [
      "Dear Sir,      \r\n",
      "\r\n",
      "     Attached is a copy of  PO, kindly check and approve by sending\r\n",
      "back PI. \r\n",
      "NOTE: Please, include your full address detail in the PI as we prepare\r\n",
      "to visit your company next year for a better business relationship \r\n",
      "\r\n",
      "\r\n",
      "Thanks,\r\n",
      " \r\n",
      "\r\n",
      "\r\n",
      "Thanks & Regards,\r\n",
      "Richa\r\n",
      "(marketing manager)\r\n",
      "Ricongroup Pvt. LTD\r\n",
      "618, Ansal Chamber - II, 6, Bhikaji Cama Place, New Delhi - 110066\r\n",
      "Ph. -　91-11-26190209　 / 26109031 / 26107961 Mobile :　(91)-9910455279\r\n",
      "\r\n",
      "info@ricongroup.com/ <mailto:info@ricongroup.com/>\r\n",
      "marketing@ricongroup.com\r\n",
      "\r\n",
      "\n"
     ]
    }
   ],
   "source": [
    "# View body of email for any URL's, see above to extract \n",
    "print(msg.body)"
   ]
  },
  {
   "cell_type": "code",
   "execution_count": 51,
   "metadata": {},
   "outputs": [
    {
     "name": "stdout",
     "output_type": "stream",
     "text": [
      "PO18-12-2019.xlsx\n"
     ]
    }
   ],
   "source": [
    "# Use attachment class to extract any attachments the email may contain \n",
    "# !!!WARNING!!! This will save file to current dir, ensure you are in a safe environment\n",
    "\n",
    "for msg in msg.attachments:\n",
    "    print(msg.save())"
   ]
  },
  {
   "cell_type": "markdown",
   "metadata": {},
   "source": [
    "> We have a few different options at this point.  We can write Python code to get the hash of the file,\n",
    "> or get it via the command line. Additionally, we could forego using Python to submit the file since it has\n",
    "> been saved to our folder, and navigate to our favorite sandbox for submission."
   ]
  },
  {
   "cell_type": "code",
   "execution_count": 61,
   "metadata": {},
   "outputs": [
    {
     "name": "stdout",
     "output_type": "stream",
     "text": [
      "{'scan_id': '38c45906d9141935071b4775e64d36652d20fea66c4252736191b5979ad9d2e4-1577196494', 'sha1': '0f50038bd2e98eada891be455b386f96d9cd81e1', 'resource': '38c45906d9141935071b4775e64d36652d20fea66c4252736191b5979ad9d2e4', 'response_code': 1, 'sha256': '38c45906d9141935071b4775e64d36652d20fea66c4252736191b5979ad9d2e4', 'permalink': 'https://www.virustotal.com/file/38c45906d9141935071b4775e64d36652d20fea66c4252736191b5979ad9d2e4/analysis/1577196494/', 'md5': 'd8b7b554a7c5bf9ab5e4ed99bbb4bda7', 'verbose_msg': 'Scan request successfully queued, come back later for the report'}\n"
     ]
    }
   ],
   "source": [
    "# Submit file to VT (or your favorite sandbox)\n",
    "# Don't forget about IPv4 addresses and domains from earlier\n",
    "import requests\n",
    "\n",
    "try:\n",
    "    url_req = \"https://www.virustotal.com/vtapi/v2/file/scan\"\n",
    "\n",
    "    vt_key =  'your_api_key_here'\n",
    "\n",
    "    files = {'file': ('PO18-12-2019.xlsx', open('PO18-12-2019.xlsx', 'rb'))}\n",
    "\n",
    "    url_resp = requests.post(url_req, files, params=params)\n",
    "\n",
    "except requests.ConnectionError as e:\n",
    "    print(e)\n",
    "    \n",
    "\n",
    "print(url_resp.json())\n"
   ]
  },
  {
   "cell_type": "code",
   "execution_count": 74,
   "metadata": {},
   "outputs": [
    {
     "name": "stdout",
     "output_type": "stream",
     "text": [
      "[{'job_id': '5dfbaa4d217d93849ff262e9', 'environment_id': 100, 'environment_description': 'Windows 7 32 bit', 'size': 17272, 'type': 'Microsoft Excel 2007+', 'type_short': ['xlsx', 'office'], 'target_url': None, 'state': 'SUCCESS', 'error_type': None, 'error_origin': None, 'submit_name': 'c77febcf9342fd3adf06eee2265341a427f710486759e66c7c24cccb63c08c38_1576774219866_PO18-12-2019.xlsx', 'md5': '2ecb65782c935d245687366e2148e892', 'sha1': '52a664b81345bbd4b04ae070e85f1d48389969a9', 'sha256': 'c77febcf9342fd3adf06eee2265341a427f710486759e66c7c24cccb63c08c38', 'sha512': 'c3329e420380da531677fad462513e756a5d04966415e01eeeec9fe91626bd4d7008f8ad4304f960ed5bd643728c7182c6e69381c45fd26032b53e1c87666d74', 'ssdeep': '384:wqiCe8qmj9KhKVxbo6IpbElfXmeJxQQHwFe4ubTRkLJiSY1:wqiCxqmhtVxE6ib4hfp2e4u/RJSY1', 'imphash': 'Unknown', 'av_detect': 54, 'vx_family': 'CVE-2017-11882', 'url_analysis': False, 'analysis_start_time': '2019-12-19T16:50:21+00:00', 'threat_score': 88, 'interesting': False, 'threat_level': 2, 'verdict': 'malicious', 'certificates': [], 'domains': [], 'classification_tags': [], 'compromised_hosts': [], 'hosts': [], 'total_network_connections': 0, 'total_processes': 2, 'total_signatures': 18, 'extracted_files': [], 'processes': [], 'file_metadata': None, 'tags': [], 'mitre_attcks': [{'tactic': 'Execution', 'technique': 'Service Execution', 'attck_id': 'T1035', 'attck_id_wiki': 'https://attack.mitre.org/wiki/Technique/T1035', 'malicious_identifiers_count': 0, 'malicious_identifiers': [], 'suspicious_identifiers_count': 0, 'suspicious_identifiers': [], 'informative_identifiers_count': 1, 'informative_identifiers': []}, {'tactic': 'Persistence', 'technique': 'Hooking', 'attck_id': 'T1179', 'attck_id_wiki': 'https://attack.mitre.org/wiki/Technique/T1179', 'malicious_identifiers_count': 0, 'malicious_identifiers': [], 'suspicious_identifiers_count': 0, 'suspicious_identifiers': [], 'informative_identifiers_count': 3, 'informative_identifiers': []}, {'tactic': 'Privilege Escalation', 'technique': 'Hooking', 'attck_id': 'T1179', 'attck_id_wiki': 'https://attack.mitre.org/wiki/Technique/T1179', 'malicious_identifiers_count': 0, 'malicious_identifiers': [], 'suspicious_identifiers_count': 0, 'suspicious_identifiers': [], 'informative_identifiers_count': 3, 'informative_identifiers': []}, {'tactic': 'Privilege Escalation', 'technique': 'Process Injection', 'attck_id': 'T1055', 'attck_id_wiki': 'https://attack.mitre.org/wiki/Technique/T1055', 'malicious_identifiers_count': 0, 'malicious_identifiers': [], 'suspicious_identifiers_count': 0, 'suspicious_identifiers': [], 'informative_identifiers_count': 1, 'informative_identifiers': []}, {'tactic': 'Defense Evasion', 'technique': 'Process Injection', 'attck_id': 'T1055', 'attck_id_wiki': 'https://attack.mitre.org/wiki/Technique/T1055', 'malicious_identifiers_count': 0, 'malicious_identifiers': [], 'suspicious_identifiers_count': 0, 'suspicious_identifiers': [], 'informative_identifiers_count': 1, 'informative_identifiers': []}, {'tactic': 'Credential Access', 'technique': 'Hooking', 'attck_id': 'T1179', 'attck_id_wiki': 'https://attack.mitre.org/wiki/Technique/T1179', 'malicious_identifiers_count': 0, 'malicious_identifiers': [], 'suspicious_identifiers_count': 0, 'suspicious_identifiers': [], 'informative_identifiers_count': 3, 'informative_identifiers': []}, {'tactic': 'Discovery', 'technique': 'Application Window Discovery', 'attck_id': 'T1010', 'attck_id_wiki': 'https://attack.mitre.org/wiki/Technique/T1010', 'malicious_identifiers_count': 0, 'malicious_identifiers': [], 'suspicious_identifiers_count': 0, 'suspicious_identifiers': [], 'informative_identifiers_count': 1, 'informative_identifiers': []}], 'submissions': [{'submission_id': '5dfbac10187a5503aa14a875', 'filename': 'c77febcf9342fd3adf06eee2265341a427f710486759e66c7c24cccb63c08c38_1576774219866_PO18-12-2019.xlsx', 'url': None, 'created_at': '2019-12-19T16:57:52+00:00'}]}]\n"
     ]
    }
   ],
   "source": [
    "# Submit to Hybrid-Analysis\n",
    "import requests\n",
    "\n",
    "\n",
    "try:\n",
    "    url = 'https://www.hybrid-analysis.com/api/v2/search/hash' \n",
    "\n",
    "    headers = {'User-Agent': 'Falcon Sandbox', 'api-key': 'your_api_key_here'}\n",
    "\n",
    "    payloads = {'hash': '52a664b81345bbd4b04ae070e85f1d48389969a9'}  \n",
    "\n",
    "    response = requests.post(url, headers=headers, data=payloads) \n",
    "    \n",
    "except requests.ConnectionError as e:\n",
    "    print(e)\n",
    "\n",
    "print(response.json())\n"
   ]
  },
  {
   "cell_type": "code",
   "execution_count": null,
   "metadata": {},
   "outputs": [],
   "source": []
  }
 ],
 "metadata": {
  "kernelspec": {
   "display_name": "Python 3",
   "language": "python",
   "name": "python3"
  },
  "language_info": {
   "codemirror_mode": {
    "name": "ipython",
    "version": 3
   },
   "file_extension": ".py",
   "mimetype": "text/x-python",
   "name": "python",
   "nbconvert_exporter": "python",
   "pygments_lexer": "ipython3",
   "version": "3.7.3"
  }
 },
 "nbformat": 4,
 "nbformat_minor": 2
}
